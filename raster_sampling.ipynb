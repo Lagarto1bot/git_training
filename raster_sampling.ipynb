{
 "cells": [
  {
   "cell_type": "code",
   "execution_count": 1,
   "metadata": {},
   "outputs": [
    {
     "name": "stdout",
     "output_type": "stream",
     "text": [
      "Collecting rasterio\n",
      "  Downloading rasterio-1.4.3-cp313-cp313-win_amd64.whl.metadata (9.4 kB)\n",
      "Collecting affine (from rasterio)\n",
      "  Downloading affine-2.4.0-py3-none-any.whl.metadata (4.0 kB)\n",
      "Collecting attrs (from rasterio)\n",
      "  Downloading attrs-24.3.0-py3-none-any.whl.metadata (11 kB)\n",
      "Requirement already satisfied: certifi in c:\\users\\jan\\desktop\\python_code\\.venv\\lib\\site-packages (from rasterio) (2024.12.14)\n",
      "Requirement already satisfied: click>=4.0 in c:\\users\\jan\\desktop\\python_code\\.venv\\lib\\site-packages (from rasterio) (8.1.7)\n",
      "Collecting cligj>=0.5 (from rasterio)\n",
      "  Downloading cligj-0.7.2-py3-none-any.whl.metadata (5.0 kB)\n",
      "Requirement already satisfied: numpy>=1.24 in c:\\users\\jan\\desktop\\python_code\\.venv\\lib\\site-packages (from rasterio) (2.2.0)\n",
      "Collecting click-plugins (from rasterio)\n",
      "  Downloading click_plugins-1.1.1-py2.py3-none-any.whl.metadata (6.4 kB)\n",
      "Requirement already satisfied: pyparsing in c:\\users\\jan\\desktop\\python_code\\.venv\\lib\\site-packages (from rasterio) (3.2.0)\n",
      "Requirement already satisfied: colorama in c:\\users\\jan\\desktop\\python_code\\.venv\\lib\\site-packages (from click>=4.0->rasterio) (0.4.6)\n",
      "Downloading rasterio-1.4.3-cp313-cp313-win_amd64.whl (25.4 MB)\n",
      "   ---------------------------------------- 0.0/25.4 MB ? eta -:--:--\n",
      "   ------- -------------------------------- 4.5/25.4 MB 32.0 MB/s eta 0:00:01\n",
      "   --------------------- ------------------ 13.6/25.4 MB 39.4 MB/s eta 0:00:01\n",
      "   -------------------------------------- - 24.6/25.4 MB 44.2 MB/s eta 0:00:01\n",
      "   ---------------------------------------- 25.4/25.4 MB 42.3 MB/s eta 0:00:00\n",
      "Downloading cligj-0.7.2-py3-none-any.whl (7.1 kB)\n",
      "Downloading affine-2.4.0-py3-none-any.whl (15 kB)\n",
      "Downloading attrs-24.3.0-py3-none-any.whl (63 kB)\n",
      "Downloading click_plugins-1.1.1-py2.py3-none-any.whl (7.5 kB)\n",
      "Installing collected packages: attrs, affine, cligj, click-plugins, rasterio\n",
      "Successfully installed affine-2.4.0 attrs-24.3.0 click-plugins-1.1.1 cligj-0.7.2 rasterio-1.4.3\n",
      "Note: you may need to restart the kernel to use updated packages.\n"
     ]
    }
   ],
   "source": [
    "%pip install rasterio"
   ]
  },
  {
   "cell_type": "code",
   "execution_count": 10,
   "metadata": {},
   "outputs": [],
   "source": [
    "import geopandas as gpd\n",
    "import rasterio\n",
    "from rasterio.sample import sample_gen\n",
    "\n",
    "point_layer_path = \"C:/OSGeo4W/bin/losowe_punkty_walidacyjne.gpkg\"\n",
    "raster_path = \"C:/Users/Jan/Desktop/Infostrateg/tuatara 20.12.2024/obraz_10m_output.tif\"\n",
    "\n",
    "points_gdf = gpd.read_file(point_layer_path)\n",
    "\n",
    "with rasterio.open(raster_path) as f:\n",
    "    if points_gdf.crs != f.crs:\n",
    "        points_gdf = points_gdf.to_crs(f.crs)\n",
    "    \n",
    "    coords = [(point.x, point.y) for point in points_gdf.geometry]\n",
    "\n",
    "    raster_values = list(f.sample(coords))\n",
    "\n",
    "points_gdf[\"raster_value\"] = [val[0] for val in raster_values]\n",
    "\n",
    "output_csv = \"1000pkt_sampled_predictions.csv\"\n",
    "\n",
    "points_gdf[[\"CLASS\", \"raster_value\"]].to_csv(output_csv, index = False)\n",
    "\n",
    "print(f\"Ilość punktów: {len(points_gdf)}\")\n"
   ]
  }
 ],
 "metadata": {
  "kernelspec": {
   "display_name": ".venv",
   "language": "python",
   "name": "python3"
  },
  "language_info": {
   "codemirror_mode": {
    "name": "ipython",
    "version": 3
   },
   "file_extension": ".py",
   "mimetype": "text/x-python",
   "name": "python",
   "nbconvert_exporter": "python",
   "pygments_lexer": "ipython3",
   "version": "3.13.1"
  }
 },
 "nbformat": 4,
 "nbformat_minor": 2
}
